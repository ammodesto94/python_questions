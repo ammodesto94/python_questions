{
 "cells": [
  {
   "cell_type": "code",
   "execution_count": null,
   "id": "2c1f0526",
   "metadata": {},
   "outputs": [],
   "source": [
    "###Question 1"
   ]
  },
  {
   "cell_type": "code",
   "execution_count": null,
   "id": "13f02bbf",
   "metadata": {},
   "outputs": [],
   "source": [
    "for x in range(1000):\n",
    "    x = (x*x*x)\n",
    "    if x > 1000:\n",
    "        break\n",
    "    print(x)"
   ]
  },
  {
   "cell_type": "code",
   "execution_count": null,
   "id": "65501768",
   "metadata": {},
   "outputs": [],
   "source": [
    "###Question 2"
   ]
  },
  {
   "cell_type": "code",
   "execution_count": null,
   "id": "fd1f05f0",
   "metadata": {},
   "outputs": [],
   "source": [
    " for x in range(2, 100): \n",
    "         \n",
    "        isPrime = True \n",
    "        for num in range(2, x): \n",
    "            if x % num == 0: \n",
    "                isPrime = False \n",
    "                break \n",
    "           \n",
    "        if isPrime: \n",
    "            print(x) "
   ]
  },
  {
   "cell_type": "code",
   "execution_count": null,
   "id": "03489122",
   "metadata": {},
   "outputs": [],
   "source": [
    "###Question 3"
   ]
  },
  {
   "cell_type": "code",
   "execution_count": null,
   "id": "e0eb5737",
   "metadata": {},
   "outputs": [],
   "source": [
    "age = int(input(' How old are you? '))\n",
    "if age < 18:\n",
    "    print(\" Your a kid! \")\n",
    "elif age == 18:\n",
    "    print(\" Your a adult! \")\n",
    "elif age > 65:\n",
    "    print(\" Your a senior! \")"
   ]
  }
 ],
 "metadata": {
  "kernelspec": {
   "display_name": "Python 3 (ipykernel)",
   "language": "python",
   "name": "python3"
  },
  "language_info": {
   "codemirror_mode": {
    "name": "ipython",
    "version": 3
   },
   "file_extension": ".py",
   "mimetype": "text/x-python",
   "name": "python",
   "nbconvert_exporter": "python",
   "pygments_lexer": "ipython3",
   "version": "3.9.7"
  }
 },
 "nbformat": 4,
 "nbformat_minor": 5
}
